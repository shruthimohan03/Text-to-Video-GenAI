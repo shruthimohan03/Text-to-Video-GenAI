{
  "nbformat": 4,
  "nbformat_minor": 0,
  "metadata": {
    "colab": {
      "provenance": [],
      "gpuType": "T4",
      "authorship_tag": "ABX9TyOrQ0sjHM08j/8a2V29VFlR",
      "include_colab_link": true
    },
    "kernelspec": {
      "name": "python3",
      "display_name": "Python 3"
    },
    "language_info": {
      "name": "python"
    },
    "accelerator": "GPU"
  },
  "cells": [
    {
      "cell_type": "markdown",
      "metadata": {
        "id": "view-in-github",
        "colab_type": "text"
      },
      "source": [
        "<a href=\"https://colab.research.google.com/github/shruthimohan03/Text-to-Video-GenAI/blob/main/500imgs-captions_model.ipynb\" target=\"_parent\"><img src=\"https://colab.research.google.com/assets/colab-badge.svg\" alt=\"Open In Colab\"/></a>"
      ]
    },
    {
      "cell_type": "code",
      "execution_count": 21,
      "metadata": {
        "id": "nuzfxVORrkjc"
      },
      "outputs": [],
      "source": [
        "import numpy as np\n",
        "import pandas as pd\n",
        "import tensorflow as tf\n",
        "from tensorflow.keras.applications import VGG19\n",
        "from tensorflow.keras.layers import Input, Dense, LSTM, Embedding, Flatten, Reshape\n",
        "from tensorflow.keras.models import Model\n",
        "from tensorflow.keras.preprocessing.text import Tokenizer\n",
        "from tensorflow.keras.preprocessing.sequence import pad_sequences\n",
        "from PIL import Image, ImageOps\n",
        "import os\n",
        "\n",
        "# Function to transform the images\n",
        "def transform(image):\n",
        "    image = ImageOps.fit(image, (224, 224), method=Image.Resampling.LANCZOS)  # Resize the image\n",
        "    image = np.array(image) / 255.0  # Normalize the pixel values\n",
        "    return image\n",
        "\n",
        "# Load the captions file (Make sure to upload it to Colab)\n",
        "captions_path = '/content/captions.txt'\n",
        "with open(captions_path, 'r') as f:\n",
        "    captions = f.read().splitlines()\n",
        "\n",
        "# Create a dictionary mapping full image filenames (including .jpg) to captions\n",
        "caption_dict = {}\n",
        "for i, caption in enumerate(captions):\n",
        "    if i == 0:  # Skip the header line if present\n",
        "        continue\n",
        "    parts = caption.split(',')\n",
        "    if len(parts) == 2:\n",
        "        caption_id, caption_text = parts\n",
        "        caption_dict[caption_id.strip()] = caption_text.strip()\n",
        "\n",
        "# Load the first 200 images and their captions\n",
        "images = []\n",
        "captions_subset = []\n",
        "count = 0\n",
        "\n",
        "# Specify the directory where images are stored (Make sure to upload images to Colab)\n",
        "images_directory = '/content/Images-500'\n",
        "\n",
        "for root, dirs, files in os.walk(images_directory):\n",
        "    for file in files:\n",
        "        if file.endswith('.jpg'):\n",
        "            image_id = file\n",
        "            if image_id in caption_dict:\n",
        "                image_path = os.path.join(root, file)\n",
        "                image = Image.open(image_path)\n",
        "                image = transform(image)\n",
        "                images.append(image)\n",
        "                captions_subset.append(caption_dict[image_id])\n",
        "                count += 1\n",
        "                if count >= 500:  # Stop after 200 images\n",
        "                    break\n",
        "    if count >= 500:\n",
        "        break\n",
        "\n",
        "# Convert to numpy arrays\n",
        "images = np.array(images)\n",
        "captions = captions_subset"
      ]
    },
    {
      "cell_type": "code",
      "source": [
        "# Model parameters\n",
        "max_caption_length = 50\n",
        "embedding_dim = 256\n",
        "hidden_dim = 512\n",
        "image_size = 112  # VGG19 requires input images to be 224x224\n",
        "\n",
        "# Tokenize the captions\n",
        "tokenizer = Tokenizer()\n",
        "tokenizer.fit_on_texts(captions)\n",
        "vocab_size = len(tokenizer.word_index) + 1\n",
        "\n",
        "# Convert captions to numerical sequences\n",
        "captions = tokenizer.texts_to_sequences(captions)\n",
        "captions = pad_sequences(captions, maxlen=max_caption_length)"
      ],
      "metadata": {
        "id": "-_vW2w2Hun9q"
      },
      "execution_count": 22,
      "outputs": []
    },
    {
      "cell_type": "code",
      "source": [
        "# Define the text encoder\n",
        "text_input = Input(shape=(max_caption_length,))\n",
        "text_embedding = Embedding(vocab_size, embedding_dim)(text_input)\n",
        "text_features = LSTM(hidden_dim)(text_embedding)\n",
        "\n",
        "# Define the image encoder (using VGG19)\n",
        "image_input = Input(shape=(image_size, image_size, 3))\n",
        "image_features = VGG19(include_top=False, weights='imagenet')(image_input)\n",
        "image_features = Flatten()(image_features)\n",
        "\n",
        "# Combine text and image features\n",
        "combined_features = tf.keras.layers.Concatenate()([text_features, image_features])"
      ],
      "metadata": {
        "id": "aNL3e1rjurgC"
      },
      "execution_count": 23,
      "outputs": []
    },
    {
      "cell_type": "code",
      "source": [
        "# Define the decoder\n",
        "decoder_output = Dense(image_size * image_size * 3, activation='sigmoid')(combined_features)\n",
        "decoder_output = Reshape((image_size, image_size, 3))(decoder_output)\n",
        "\n",
        "# Create the model\n",
        "model = Model(inputs=[text_input, image_input], outputs=decoder_output)\n",
        "\n",
        "# Dataset preparation\n",
        "num_epochs = 10\n",
        "batch_size = 4\n",
        "\n",
        "def preprocess(image, caption):\n",
        "    # Resize the image to the expected shape\n",
        "    image = tf.image.resize(image, (image_size, image_size))\n",
        "\n",
        "    # Pad the caption (same as before)\n",
        "    caption_length = tf.shape(caption)[0]\n",
        "    padding_needed = max_caption_length - caption_length\n",
        "    padding = tf.maximum(padding_needed, 0)\n",
        "\n",
        "    caption = tf.pad(caption, [[0, padding]])[:max_caption_length]\n",
        "\n",
        "    return image, caption\n",
        "\n",
        "# Create the dataset\n",
        "dataset = tf.data.Dataset.from_tensor_slices((images, captions))\n",
        "dataset = dataset.map(preprocess)\n",
        "dataset = dataset.batch(batch_size).prefetch(tf.data.AUTOTUNE)"
      ],
      "metadata": {
        "id": "VO7H86YMuvtK"
      },
      "execution_count": 24,
      "outputs": []
    },
    {
      "cell_type": "code",
      "source": [
        "# Compile the model\n",
        "model.compile(optimizer='adam', loss='mse', run_eagerly=True)\n",
        "\n",
        "# Train the model\n",
        "history = model.fit(dataset.map(lambda img, cap: ((cap, img), img)), epochs=num_epochs)\n",
        "\n",
        "print(\"Training complete.\")\n"
      ],
      "metadata": {
        "colab": {
          "base_uri": "https://localhost:8080/"
        },
        "id": "SW1dzl-wu3MB",
        "outputId": "2ecf0cf7-9785-450b-bd04-dfac74262c3d"
      },
      "execution_count": 25,
      "outputs": [
        {
          "output_type": "stream",
          "name": "stdout",
          "text": [
            "Epoch 1/10\n",
            "\u001b[1m125/125\u001b[0m \u001b[32m━━━━━━━━━━━━━━━━━━━━\u001b[0m\u001b[37m\u001b[0m \u001b[1m44s\u001b[0m 345ms/step - loss: 0.0746\n",
            "Epoch 2/10\n",
            "\u001b[1m125/125\u001b[0m \u001b[32m━━━━━━━━━━━━━━━━━━━━\u001b[0m\u001b[37m\u001b[0m \u001b[1m45s\u001b[0m 357ms/step - loss: 0.0671\n",
            "Epoch 3/10\n",
            "\u001b[1m125/125\u001b[0m \u001b[32m━━━━━━━━━━━━━━━━━━━━\u001b[0m\u001b[37m\u001b[0m \u001b[1m80s\u001b[0m 340ms/step - loss: 0.0652\n",
            "Epoch 4/10\n",
            "\u001b[1m125/125\u001b[0m \u001b[32m━━━━━━━━━━━━━━━━━━━━\u001b[0m\u001b[37m\u001b[0m \u001b[1m82s\u001b[0m 339ms/step - loss: 0.0615\n",
            "Epoch 5/10\n",
            "\u001b[1m125/125\u001b[0m \u001b[32m━━━━━━━━━━━━━━━━━━━━\u001b[0m\u001b[37m\u001b[0m \u001b[1m83s\u001b[0m 344ms/step - loss: 0.0593\n",
            "Epoch 6/10\n",
            "\u001b[1m125/125\u001b[0m \u001b[32m━━━━━━━━━━━━━━━━━━━━\u001b[0m\u001b[37m\u001b[0m \u001b[1m82s\u001b[0m 341ms/step - loss: 0.0576\n",
            "Epoch 7/10\n",
            "\u001b[1m125/125\u001b[0m \u001b[32m━━━━━━━━━━━━━━━━━━━━\u001b[0m\u001b[37m\u001b[0m \u001b[1m43s\u001b[0m 340ms/step - loss: 0.0562\n",
            "Epoch 8/10\n",
            "\u001b[1m125/125\u001b[0m \u001b[32m━━━━━━━━━━━━━━━━━━━━\u001b[0m\u001b[37m\u001b[0m \u001b[1m81s\u001b[0m 333ms/step - loss: 0.0541\n",
            "Epoch 9/10\n",
            "\u001b[1m125/125\u001b[0m \u001b[32m━━━━━━━━━━━━━━━━━━━━\u001b[0m\u001b[37m\u001b[0m \u001b[1m42s\u001b[0m 333ms/step - loss: 0.0517\n",
            "Epoch 10/10\n",
            "\u001b[1m125/125\u001b[0m \u001b[32m━━━━━━━━━━━━━━━━━━━━\u001b[0m\u001b[37m\u001b[0m \u001b[1m82s\u001b[0m 333ms/step - loss: 0.0494\n",
            "Training complete.\n"
          ]
        }
      ]
    },
    {
      "cell_type": "code",
      "source": [
        "# Example usage\n",
        "text_input = tokenizer.texts_to_sequences(['a cat playing with a ball of yarn'])\n",
        "text_input = pad_sequences(text_input, maxlen=max_caption_length)\n",
        "\n",
        "# Generate a dummy image input (zeros)\n",
        "dummy_image = np.zeros((1, image_size, image_size, 3))  # Placeholder for the image\n",
        "\n",
        "# Predict the generated image\n",
        "generated_image = model.predict([text_input, dummy_image])\n",
        "\n",
        "# Scale the pixel values back to [0, 255]\n",
        "generated_image = (generated_image * 255).astype(np.uint8)\n",
        "\n",
        "# Before converting to Image, check the generated image array\n",
        "print(generated_image.shape)  # Should be (1, image_size, image_size, 3)\n",
        "print(generated_image.dtype)   # Should be uint8\n",
        "\n",
        "# Convert the array to an image and display it\n",
        "generated_image = Image.fromarray(generated_image[0])  # Access the first image in the batch\n",
        "\n",
        "# Use matplotlib to display the image\n",
        "import matplotlib.pyplot as plt\n",
        "\n",
        "plt.imshow(generated_image)  # Display the image\n",
        "plt.axis('off')  # Hide axes\n",
        "plt.show()\n"
      ],
      "metadata": {
        "colab": {
          "base_uri": "https://localhost:8080/",
          "height": 458
        },
        "id": "Ck4Jz13MxcMi",
        "outputId": "ef305f77-e0d8-4e9f-bb1f-00b3cc4cb95c"
      },
      "execution_count": 26,
      "outputs": [
        {
          "output_type": "stream",
          "name": "stdout",
          "text": [
            "\u001b[1m1/1\u001b[0m \u001b[32m━━━━━━━━━━━━━━━━━━━━\u001b[0m\u001b[37m\u001b[0m \u001b[1m0s\u001b[0m 52ms/step\n",
            "(1, 112, 112, 3)\n",
            "uint8\n"
          ]
        },
        {
          "output_type": "display_data",
          "data": {
            "text/plain": [
              "<Figure size 640x480 with 1 Axes>"
            ],
            "image/png": "[encoded data removed]"
          },
          "metadata": {}
        }
      ]
    }
  ]
}